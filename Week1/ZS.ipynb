{
 "cells": [
  {
   "cell_type": "markdown",
   "metadata": {},
   "source": [
    "### Count the maximum square with all side 1"
   ]
  },
  {
   "cell_type": "code",
   "execution_count": 71,
   "metadata": {},
   "outputs": [
    {
     "data": {
      "text/plain": [
       "array([[0., 0., 0., 0., 0., 0., 0.],\n",
       "       [0., 1., 1., 1., 1., 1., 1.],\n",
       "       [0., 1., 0., 1., 2., 0., 1.],\n",
       "       [0., 0., 1., 1., 0., 0., 1.],\n",
       "       [0., 1., 1., 2., 1., 1., 1.],\n",
       "       [0., 1., 0., 0., 1., 0., 1.],\n",
       "       [0., 1., 0., 1., 1., 0., 0.],\n",
       "       [0., 1., 0., 1., 0., 1., 1.],\n",
       "       [0., 1., 1., 1., 0., 1., 2.]])"
      ]
     },
     "execution_count": 71,
     "metadata": {},
     "output_type": "execute_result"
    }
   ],
   "source": [
    "mat = [\n",
    "        [1, 1, 1, 1, 1, 1],\n",
    "        [1, 0, 1, 1, 0, 1],\n",
    "        [0, 1, 1, 0, 0, 1],\n",
    "        [1, 1, 1, 1, 1, 1],\n",
    "        [1, 0, 0, 1, 0, 1],\n",
    "        [1, 0, 1, 1, 0, 0],\n",
    "        [1, 0, 1, 0, 1, 1],\n",
    "        [1, 1, 1, 0, 1, 1]\n",
    "    ]\n",
    "\n",
    "mat = np.asarray(mat)\n",
    "del1 = np.zeros((9,7))\n",
    "del2 = np.zeros((9,7))\n",
    "\n",
    "for i in range(8):\n",
    "    for j in range(6):\n",
    "        del1[i+1][j+1] = mat[i][j]\n",
    "\n",
    "\n",
    "max = 0\n",
    "for i in range(8):\n",
    "    for j in range(6):\n",
    "        if del1[i+1][j+1] == 0:\n",
    "            del2[i+1][j+1] = 0\n",
    "        else:\n",
    "            del2[i+1][j+1]= min(del1[i][j+1], del1[i][j], del1[i+1][j]) + 1\n",
    "\n",
    "            \n",
    "#only 2 all 1,1 sqaures are there.\n",
    "del2"
   ]
  },
  {
   "cell_type": "markdown",
   "metadata": {},
   "source": [
    "### Count max square with boundary 1"
   ]
  },
  {
   "cell_type": "code",
   "execution_count": 98,
   "metadata": {},
   "outputs": [
    {
     "data": {
      "text/plain": [
       "4"
      ]
     },
     "execution_count": 98,
     "metadata": {},
     "output_type": "execute_result"
    }
   ],
   "source": [
    "mat_X= np.zeros((8,6))\n",
    "mat_Y = np.zeros((8,6))\n",
    "mat_Z = np.zeros((8,6))\n",
    "\n",
    "# For x coordinate\n",
    "for i in range(8):\n",
    "    for j in range(6):\n",
    "        if mat[i][j] != 0:\n",
    "            if i > 0:\n",
    "                if mat[i-1][j] == 1:\n",
    "                    mat_X[i][j] = mat_X[i-1][j] + 1\n",
    "                else:\n",
    "                    mat_X[i][j] = 1\n",
    "            else:\n",
    "                mat_X[i][j] = 1\n",
    "        else:\n",
    "            mat_X[i][j] = 0\n",
    "\n",
    "#For y coordinate\n",
    "for i in range(8):\n",
    "    for j in range(6):\n",
    "        if mat[i][j] != 0:\n",
    "            if j > 0:\n",
    "                if mat[i][j-1] == 1:\n",
    "                    mat_Y[i][j] = mat_Y[i][j-1] + 1\n",
    "                else:\n",
    "                    mat_Y[i][j] = 1\n",
    "            else:\n",
    "                mat_Y[i][j] = 1\n",
    "        else:\n",
    "            mat_Y[i][j] = 0\n",
    "            \n",
    "mat_Z = mat_X\n",
    "mat_X = mat_Y\n",
    "mat_Y = mat_Z\n",
    "#Counting the max dimension of the squre\n",
    "max_len = 0\n",
    "for i in reversed(range(8)):\n",
    "    for j in reversed(range(6)):\n",
    "        x = mat_X[i][j]\n",
    "        y = mat_Y[i][j]\n",
    "        length = int(min(mat_X[i][j], mat_Y[i][j]))\n",
    "        while length:\n",
    "            isSquare  = mat_Y[i][j - length + 1] >= length and mat_X[i - length + 1][j] >= length\n",
    "                \n",
    "            if isSquare and max_len < length:\n",
    "                    max_len = length\n",
    "            length = length - 1\n",
    "max_len\n",
    "            \n"
   ]
  },
  {
   "cell_type": "markdown",
   "metadata": {},
   "source": [
    "### Containers transported by Ship"
   ]
  },
  {
   "cell_type": "code",
   "execution_count": 182,
   "metadata": {},
   "outputs": [
    {
     "name": "stdout",
     "output_type": "stream",
     "text": [
      "_____________________________\n",
      "start\n",
      "10\n",
      "1\n",
      "3\n",
      "5\n",
      "8\n",
      "-- Finally--\n",
      "8\n",
      "------------\n",
      "2\n",
      "end\n",
      "Hello\n",
      "10\n"
     ]
    }
   ],
   "source": [
    "#weights = [1,2,3,4,5,6,7,8,9,10]\n",
    "#days =  5\n",
    "weights = [3,2,2,4,1,4]\n",
    "days = 2\n",
    "\n",
    "weights = sorted(weights)\n",
    "min_weights = weights[-1]\n",
    "max_weights = sum(weights)\n",
    "\n",
    "\n",
    "days_found = 0\n",
    "while days_found != days:\n",
    "    days_found = 0\n",
    "    print(\"_____________________________\")\n",
    "    print(\"start\")\n",
    "    mid  = (min_weights + max_weights)//2\n",
    "    print(mid)\n",
    "    weights_cpy = weights\n",
    "    sum_package = 0\n",
    "    for i in weights_cpy:\n",
    "        if sum_package <= mid:\n",
    "            if (mid - sum_package >= i):\n",
    "                sum_package = i + sum_package\n",
    "                print(sum_package)\n",
    "            else:\n",
    "                print(\"-- Finally--\")\n",
    "                days_found = days_found + 1\n",
    "                sum_package = 0\n",
    "                sum_package = i + sum_package\n",
    "    days_found = days_found+1\n",
    "    \n",
    "    if days_found < days:\n",
    "        max_weights = mid\n",
    "        mid = (min_weights + max_weights)//2\n",
    "        \n",
    "    if days_found > days:\n",
    "        min_weights = mid\n",
    "        mid = (min_weights + max_weights)//2\n",
    "    print(\"------------\")\n",
    "    print(days_found)\n",
    "    print(\"end\")\n",
    "        \n",
    "print(\"Hello\")\n",
    "print(mid)"
   ]
  },
  {
   "cell_type": "code",
   "execution_count": 196,
   "metadata": {},
   "outputs": [],
   "source": [
    "    def shipWithinDays(weights, D):\n",
    "        left, right = max(weights), sum(weights)\n",
    "        while left < right:\n",
    "            mid, need, cur = (left + right) // 2, 1, 0\n",
    "            for w in weights:\n",
    "                if cur + w > mid:\n",
    "                    need += 1\n",
    "                    cur = 0\n",
    "                cur += w\n",
    "            if need > D: left = mid + 1\n",
    "            else: right = mid\n",
    "        return left"
   ]
  },
  {
   "cell_type": "markdown",
   "metadata": {},
   "source": [
    "### Binary Tree"
   ]
  },
  {
   "cell_type": "code",
   "execution_count": 189,
   "metadata": {},
   "outputs": [],
   "source": [
    "class newNode:\n",
    " \n",
    "    # Construct to create a new node\n",
    "    def __init__(self, key):\n",
    "        self.data = key\n",
    "        self.left = None\n",
    "        self.right = None\n",
    "        \n",
    "if __name__ == '__main__':\n",
    "     \n",
    "    \"\"\"\n",
    "    Let us create Binary Tree shown\n",
    "    in above example \"\"\"\n",
    "    root = newNode(5)\n",
    "    root.left = newNode(2)\n",
    "    root.right = newNode(6)\n",
    "    root.left.left = newNode(1)\n",
    "    root.left.right = newNode(4)\n",
    "    root.left.right.left = newNode(3)\n",
    "    root.right.right = newNode(8)\n",
    "    root.right.right.right = newNode(9)\n",
    "    root.right.right.left = newNode(7)"
   ]
  },
  {
   "cell_type": "code",
   "execution_count": 191,
   "metadata": {},
   "outputs": [
    {
     "name": "stdout",
     "output_type": "stream",
     "text": [
      "1\n"
     ]
    }
   ],
   "source": [
    "q=[]\n",
    "q.append(root)\n",
    "print(len(q))"
   ]
  },
  {
   "cell_type": "code",
   "execution_count": 195,
   "metadata": {},
   "outputs": [
    {
     "data": {
      "text/plain": [
       "array([[1, 1, 0, 1, 1, 1, 1, 1],\n",
       "       [1, 0, 1, 1, 0, 0, 0, 1],\n",
       "       [1, 1, 1, 1, 0, 1, 1, 1],\n",
       "       [1, 1, 0, 1, 1, 1, 0, 0],\n",
       "       [1, 0, 0, 1, 0, 0, 1, 1],\n",
       "       [1, 1, 1, 1, 1, 0, 1, 1]])"
      ]
     },
     "execution_count": 195,
     "metadata": {},
     "output_type": "execute_result"
    }
   ],
   "source": [
    "mat.T"
   ]
  },
  {
   "cell_type": "markdown",
   "metadata": {},
   "source": [
    "### Spiral Matrix"
   ]
  },
  {
   "cell_type": "code",
   "execution_count": 202,
   "metadata": {},
   "outputs": [
    {
     "name": "stdout",
     "output_type": "stream",
     "text": [
      "1 2 3 4 8 12 16 15 14 13 9 5 6 7 11 10 "
     ]
    }
   ],
   "source": [
    "def printdata(arr, i, j, m, n):\n",
    "\n",
    "    # If i or j lies outside the matrix\n",
    "    if (i >= m or j >= n):\n",
    "        return\n",
    "\n",
    "    # Print First Row\n",
    "    for p in range(i, n):\n",
    "        print(arr[i][p], end=\" \")\n",
    "\n",
    "    # Print Last Column\n",
    "    for p in range(i + 1, m):\n",
    "        print(arr[p][n - 1], end=\" \")\n",
    "\n",
    "    # Print Last Row, if Last and\n",
    "    # First Row are not same\n",
    "    if ((m - 1) != i):\n",
    "        for p in range(n - 2, j - 1, -1):\n",
    "            print(arr[m - 1][p], end=\" \")\n",
    "\n",
    "    # Print First Column, if Last and\n",
    "    # First Column are not same\n",
    "    if ((n - 1) != j):\n",
    "        for p in range(m - 2, i, -1):\n",
    "            print(arr[p][j], end=\" \")\n",
    "\n",
    "    printdata(arr, i + 1, j + 1, m - 1, n - 1)\n",
    "\n",
    "\n",
    "# Driver code\n",
    "R = 4\n",
    "C = 4\n",
    "arr = [[1, 2, 3, 4],\n",
    "       [5, 6, 7, 8],\n",
    "       [9, 10, 11, 12],\n",
    "       [13, 14, 15, 16]]\n",
    "\n",
    "# Function Call\n",
    "printdata(arr, 0, 0, R, C)"
   ]
  },
  {
   "cell_type": "code",
   "execution_count": 209,
   "metadata": {},
   "outputs": [
    {
     "data": {
      "text/plain": [
       "4"
      ]
     },
     "execution_count": 209,
     "metadata": {},
     "output_type": "execute_result"
    }
   ],
   "source": [
    "l = range(2,5)\n",
    "l[2]"
   ]
  },
  {
   "cell_type": "code",
   "execution_count": null,
   "metadata": {},
   "outputs": [],
   "source": []
  }
 ],
 "metadata": {
  "kernelspec": {
   "display_name": "Python 3",
   "language": "python",
   "name": "python3"
  },
  "language_info": {
   "codemirror_mode": {
    "name": "ipython",
    "version": 3
   },
   "file_extension": ".py",
   "mimetype": "text/x-python",
   "name": "python",
   "nbconvert_exporter": "python",
   "pygments_lexer": "ipython3",
   "version": "3.7.4"
  }
 },
 "nbformat": 4,
 "nbformat_minor": 2
}
